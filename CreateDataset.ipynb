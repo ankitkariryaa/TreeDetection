{
 "cells": [
  {
   "cell_type": "code",
   "execution_count": null,
   "metadata": {
    "collapsed": false
   },
   "outputs": [],
   "source": [
    "import rasterio                  # I/O raster data (netcdf, height, geotiff, ...)\n",
    "import rasterio.warp             # Reproject raster samples\n",
    "import fiona                     # I/O vector data (shape, geojson, ...)\n",
    "import pyproj                    # Change coordinate reference system\n",
    "import geopandas\n",
    "import shapely\n",
    "from shapely.geometry import Point\n",
    "\n",
    "import numpy as np               # numerical array manipulation\n",
    "import os\n",
    "from PIL import Image\n",
    "from detection.dataset.dataset_generator import DatasetGenerator\n",
    "# from detection.dataset.image_dataset import ImageDataset\n",
    "from detection.dataset.tree_dataset import TreeDataset\n",
    "\n",
    "from detection.dataset.fcn_mask_generator import FCNMaskGenerator\n",
    "\n",
    "import matplotlib.pyplot as plt  # plotting tools\n",
    "%matplotlib inline\n",
    "\n",
    "import warnings                  # ignore annoying warnings\n",
    "warnings.filterwarnings(\"ignore\")\n",
    "\n",
    "%reload_ext autoreload\n",
    "%autoreload 2"
   ]
  },
  {
   "cell_type": "code",
   "execution_count": null,
   "metadata": {
    "collapsed": false,
    "scrolled": true
   },
   "outputs": [],
   "source": [
    "treeDataset = TreeDataset('../subset/', '.jpg', 'trees_out.geojson')\n"
   ]
  },
  {
   "cell_type": "code",
   "execution_count": null,
   "metadata": {
    "collapsed": false
   },
   "outputs": [],
   "source": [
    "fcn_mask_gen = FCNMaskGenerator(treeDataset, 0.2, 0.1).fcn_data_generator(1, (256, 256), 1)"
   ]
  },
  {
   "cell_type": "code",
   "execution_count": null,
   "metadata": {
    "collapsed": false,
    "scrolled": true
   },
   "outputs": [],
   "source": [
    "from PIL import Image\n",
    "wdir = '../patches/'\n",
    "i = 0\n",
    "for data in fcn_mask_gen:\n",
    "    input, output = data\n",
    "    input_img = input['input_1']\n",
    "#     print(input_img.shape)\n",
    "#     print(input_img.dtype)\n",
    "#     print(np.squeeze(input_img, axis=0).astype('uint8').shape)\n",
    "    im = Image.fromarray(np.squeeze(input_img, axis=0).astype('uint8'))\n",
    "    im.save(wdir+\"patch_{}.jpg\".format(i))\n",
    "    plt.figure(1), plt.imshow(input_img.squeeze(axis=0))\n",
    "    out_img = output['class_out']\n",
    "    out_img2 = np.squeeze(out_img, axis=0).astype('uint8')\n",
    "    out_img3 = np.squeeze(out_img2, axis=-1)\n",
    "#     print(out_img3.shape)\n",
    "    im = Image.fromarray(out_img3)\n",
    "    im.save(wdir+\"mask_{}.jpg\".format(i))\n",
    "    plt.figure(2), plt.imshow((out_img3))\n",
    "    plt.show()\n",
    "#     print(out_img)\n",
    "    i += 1\n",
    "    if i > 999:\n",
    "        break"
   ]
  }
 ],
 "metadata": {
  "kernelspec": {
   "display_name": "Python 3",
   "language": "python",
   "name": "python3"
  },
  "language_info": {
   "codemirror_mode": {
    "name": "ipython",
    "version": 3
   },
   "file_extension": ".py",
   "mimetype": "text/x-python",
   "name": "python",
   "nbconvert_exporter": "python",
   "pygments_lexer": "ipython3",
   "version": "3.6.1"
  }
 },
 "nbformat": 4,
 "nbformat_minor": 2
}
